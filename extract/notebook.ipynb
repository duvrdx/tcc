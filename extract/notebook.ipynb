{
 "cells": [
  {
   "cell_type": "code",
   "execution_count": null,
   "metadata": {},
   "outputs": [],
   "source": [
    "import extract_data.service_ana as sa\n",
    "import pandas as pd\n",
    "import matplotlib.pyplot as plt\n",
    "from pprint import pprint"
   ]
  },
  {
   "cell_type": "code",
   "execution_count": null,
   "metadata": {},
   "outputs": [],
   "source": [
    "raw_stations: dict = sa.get_telemetric_stations(0,0)\n",
    "filtered_data: dict = sa.filter_by_uf(raw_stations, 'ES')\n",
    "stations_df: pd.DataFrame = sa.telemetric_stations_to_df(filtered_data)"
   ]
  },
  {
   "cell_type": "code",
   "execution_count": null,
   "metadata": {},
   "outputs": [
    {
     "name": "stdout",
     "output_type": "stream",
     "text": [
      "https://telemetriaws1.ana.gov.br/ServiceANA.asmx/HidroBaciaSubBacia?codBacia=5&codSubBacia=\n"
     ]
    }
   ],
   "source": [
    "basins: dict = sa.pre_proccess_sub_basins(sa.get_hydrographic_basin(basin=5, sub_basin=None))\n",
    "\n",
    "sub_basins: dict = { sub_basin[\"codSubBacia\"]: sub_basin[\"nmSubBacia\"] for sub_basin in basins['sub_basins']}"
   ]
  },
  {
   "cell_type": "code",
   "execution_count": null,
   "metadata": {},
   "outputs": [
    {
     "data": {
      "text/html": [
       "<div>\n",
       "<style scoped>\n",
       "    .dataframe tbody tr th:only-of-type {\n",
       "        vertical-align: middle;\n",
       "    }\n",
       "\n",
       "    .dataframe tbody tr th {\n",
       "        vertical-align: top;\n",
       "    }\n",
       "\n",
       "    .dataframe thead th {\n",
       "        text-align: right;\n",
       "    }\n",
       "</style>\n",
       "<table border=\"1\" class=\"dataframe\">\n",
       "  <thead>\n",
       "    <tr style=\"text-align: right;\">\n",
       "      <th></th>\n",
       "      <th>NomeEstacao</th>\n",
       "      <th>CodEstacao</th>\n",
       "      <th>Bacia</th>\n",
       "      <th>SubBacia</th>\n",
       "      <th>Operadora</th>\n",
       "      <th>Responsavel</th>\n",
       "      <th>Municipio-UF</th>\n",
       "      <th>Latitude</th>\n",
       "      <th>Longitude</th>\n",
       "      <th>Altitude</th>\n",
       "      <th>CodRio</th>\n",
       "      <th>NomeRio</th>\n",
       "      <th>Origem</th>\n",
       "      <th>StatusEstacao</th>\n",
       "    </tr>\n",
       "  </thead>\n",
       "  <tbody>\n",
       "    <tr>\n",
       "      <th>count</th>\n",
       "      <td>78</td>\n",
       "      <td>78</td>\n",
       "      <td>78</td>\n",
       "      <td>78</td>\n",
       "      <td>78</td>\n",
       "      <td>78</td>\n",
       "      <td>78</td>\n",
       "      <td>78</td>\n",
       "      <td>78</td>\n",
       "      <td>78</td>\n",
       "      <td>78</td>\n",
       "      <td>78</td>\n",
       "      <td>78</td>\n",
       "      <td>78</td>\n",
       "    </tr>\n",
       "    <tr>\n",
       "      <th>unique</th>\n",
       "      <td>75</td>\n",
       "      <td>75</td>\n",
       "      <td>1</td>\n",
       "      <td>3</td>\n",
       "      <td>17</td>\n",
       "      <td>17</td>\n",
       "      <td>27</td>\n",
       "      <td>74</td>\n",
       "      <td>73</td>\n",
       "      <td>53</td>\n",
       "      <td>27</td>\n",
       "      <td>27</td>\n",
       "      <td>5</td>\n",
       "      <td>1</td>\n",
       "    </tr>\n",
       "    <tr>\n",
       "      <th>top</th>\n",
       "      <td>BOCA DA VALA</td>\n",
       "      <td>55960000</td>\n",
       "      <td>5</td>\n",
       "      <td>57</td>\n",
       "      <td>01059 - STATKRAFT - Statkraft Energias Renováv...</td>\n",
       "      <td>01059 - STATKRAFT - Statkraft Energias Renováv...</td>\n",
       "      <td>ALEGRE-ES</td>\n",
       "      <td>-18.65110</td>\n",
       "      <td>-40.08890</td>\n",
       "      <td>0.00</td>\n",
       "      <td>57400000</td>\n",
       "      <td>RIO ITAPEMIRIM</td>\n",
       "      <td>Setor Elétrico</td>\n",
       "      <td>Ativo</td>\n",
       "    </tr>\n",
       "    <tr>\n",
       "      <th>freq</th>\n",
       "      <td>3</td>\n",
       "      <td>3</td>\n",
       "      <td>78</td>\n",
       "      <td>56</td>\n",
       "      <td>16</td>\n",
       "      <td>16</td>\n",
       "      <td>11</td>\n",
       "      <td>3</td>\n",
       "      <td>3</td>\n",
       "      <td>14</td>\n",
       "      <td>9</td>\n",
       "      <td>9</td>\n",
       "      <td>58</td>\n",
       "      <td>78</td>\n",
       "    </tr>\n",
       "  </tbody>\n",
       "</table>\n",
       "</div>"
      ],
      "text/plain": [
       "         NomeEstacao CodEstacao Bacia SubBacia  \\\n",
       "count             78         78    78       78   \n",
       "unique            75         75     1        3   \n",
       "top     BOCA DA VALA   55960000     5       57   \n",
       "freq               3          3    78       56   \n",
       "\n",
       "                                                Operadora  \\\n",
       "count                                                  78   \n",
       "unique                                                 17   \n",
       "top     01059 - STATKRAFT - Statkraft Energias Renováv...   \n",
       "freq                                                   16   \n",
       "\n",
       "                                              Responsavel Municipio-UF  \\\n",
       "count                                                  78           78   \n",
       "unique                                                 17           27   \n",
       "top     01059 - STATKRAFT - Statkraft Energias Renováv...    ALEGRE-ES   \n",
       "freq                                                   16           11   \n",
       "\n",
       "         Latitude  Longitude Altitude    CodRio         NomeRio  \\\n",
       "count          78         78       78        78              78   \n",
       "unique         74         73       53        27              27   \n",
       "top     -18.65110  -40.08890     0.00  57400000  RIO ITAPEMIRIM   \n",
       "freq            3          3       14         9               9   \n",
       "\n",
       "                Origem StatusEstacao  \n",
       "count               78            78  \n",
       "unique               5             1  \n",
       "top     Setor Elétrico         Ativo  \n",
       "freq                58            78  "
      ]
     },
     "execution_count": 4,
     "metadata": {},
     "output_type": "execute_result"
    }
   ],
   "source": [
    "stations_df.describe()"
   ]
  },
  {
   "cell_type": "code",
   "execution_count": null,
   "metadata": {},
   "outputs": [],
   "source": [
    "number_of_stations = { sub_basins[sub_basin]: stations_df[stations_df[\"SubBacia\"] == sub_basin] for sub_basin in set(stations_df[\"SubBacia\"].to_list())}"
   ]
  },
  {
   "cell_type": "code",
   "execution_count": null,
   "metadata": {},
   "outputs": [
    {
     "data": {
      "text/plain": [
       "<matplotlib.legend.Legend at 0x7f135997cdf0>"
      ]
     },
     "execution_count": 6,
     "metadata": {},
     "output_type": "execute_result"
    },
    {
     "data": {
      "image/png": "[encoded data removed]",
      "text/plain": [
       "<Figure size 1000x600 with 1 Axes>"
      ]
     },
     "metadata": {},
     "output_type": "display_data"
    }
   ],
   "source": [
    "\n",
    "plt.figure(figsize=(10, 6))  # Set the figure size to 10 inches by 6 inches\n",
    "\n",
    "\n",
    "plt.bar(number_of_stations.keys(), [len(number_of_stations[sub_basin]) for sub_basin in number_of_stations.keys()], label='Total de Estações')\n",
    "plt.bar(number_of_stations.keys(), [len(set(number_of_stations[sub_basin][\"NomeRio\"].to_list())) for sub_basin in number_of_stations.keys()], label=\"Rios\")\n",
    "\n",
    "plt.xlabel('Sub-Bacias')\n",
    "plt.ylabel('Quantidade')\n",
    "\n",
    "plt.legend()"
   ]
  },
  {
   "cell_type": "code",
   "execution_count": null,
   "metadata": {},
   "outputs": [
    {
     "name": "stdout",
     "output_type": "stream",
     "text": [
      "57 - RIOS ITAPEMIRIM,ITABAPOANA E .: ['RIO PARDO', 'RIO FRUTEIRA', 'RIO PRETO', 'RIO BRAÇO NORTE ESQUERDO', 'RIO SANTA MARIA DA VITÓRIA', 'RIO BRAÇO NORTE DIREITO', 'RIO CASTELO', 'RIO ITABAPOANA', 'RIO BENEVENTE', 'RIO IRIRITIMIRIM', 'RIO CALÇADO', 'RIO ITAPEMIRIM', 'RIO DO VEADO', 'RIO JABUTI', 'RIO JUCU - BRAÇO SUL', 'RIO ALEGRE', 'RIO JUCU - BRAÇO NORTE', 'RIO JUCU']\n",
      "56 - RIO DOCE: ['RIO SANTA MARIA', 'RIO DOCE', 'RIO GUANDU', 'RIO PANCAS', 'RIO SÃO JOSÉ', 'RIO TABOCAS']\n",
      "55 - RIOS MUCURI,SÃO MATEUS E ....: ['RIO SÃO MATEUS / BRAÇO SUL', 'RIO SÃO MATEUS', 'RIO SÃO MATEUS / BRAÇO NORTE']\n"
     ]
    }
   ],
   "source": [
    "rivers = {f\"{sub_basin} - {sub_basins[sub_basin]}\": list(set(number_of_stations[sub_basins[sub_basin]][\"NomeRio\"].to_list())) for sub_basin in set(stations_df[\"SubBacia\"].to_list())}\n",
    "\n",
    "# print(rivers)\n",
    "for key, value in rivers.items():\n",
    "    print(f\"{key}: {value}\")"
   ]
  },
  {
   "cell_type": "code",
   "execution_count": null,
   "metadata": {},
   "outputs": [],
   "source": [
    "# ESTAÇÕES BACIA DO RIO DOCE\n",
    "# COLATINA PONTE 56994500 -> Alvo\n",
    "# DOCE 11 - BAIXO GANDÚ   56338360\n",
    "# CGH SANTA MARIA   56994100\n",
    "# DOCE 16 - LINHARES   56338420\n",
    "\n",
    "\n",
    "# ESTAÇÕES BACIA SÃO MATEUS\n",
    "# BOCA DA VALA   55960000 -> Alvo\n",
    "# COTAXÉ   55810000\n",
    "# CRICARÉ   55885100\n"
   ]
  },
  {
   "cell_type": "code",
   "execution_count": null,
   "metadata": {},
   "outputs": [
    {
     "name": "stdout",
     "output_type": "stream",
     "text": [
      "    NomeEstacao CodEstacao Bacia SubBacia  \\\n",
      "0        COTAXÉ   55810000     5       55   \n",
      "1       CRICARÉ   55885100     5       55   \n",
      "2  BOCA DA VALA   55960000     5       55   \n",
      "3  BOCA DA VALA   55960000     5       55   \n",
      "4  BOCA DA VALA   55960000     5       55   \n",
      "\n",
      "                                           Operadora  \\\n",
      "0  00082 - CPRM - Cia de Pesquisa de Recursos Min...   \n",
      "1  00082 - CPRM - Cia de Pesquisa de Recursos Min...   \n",
      "2  00082 - CPRM - Cia de Pesquisa de Recursos Min...   \n",
      "3  00082 - CPRM - Cia de Pesquisa de Recursos Min...   \n",
      "4  00082 - CPRM - Cia de Pesquisa de Recursos Min...   \n",
      "\n",
      "                               Responsavel   Municipio-UF   Latitude  \\\n",
      "0  00001 - ANA - Agência Nacional de Águas  SÃO MATEUS-ES  -18.62750   \n",
      "1  00001 - ANA - Agência Nacional de Águas  SÃO MATEUS-ES  -18.65080   \n",
      "2  00001 - ANA - Agência Nacional de Águas  SÃO MATEUS-ES  -18.65110   \n",
      "3  00001 - ANA - Agência Nacional de Águas  SÃO MATEUS-ES  -18.65110   \n",
      "4  00001 - ANA - Agência Nacional de Águas  SÃO MATEUS-ES  -18.65110   \n",
      "\n",
      "   Longitude Altitude    CodRio                       NomeRio  \\\n",
      "0  -40.11170     0.00  55420000  RIO SÃO MATEUS / BRAÇO NORTE   \n",
      "1  -40.12170     0.00  55460000    RIO SÃO MATEUS / BRAÇO SUL   \n",
      "2  -40.08890    12.50  55400000                RIO SÃO MATEUS   \n",
      "3  -40.08890    12.50  55400000                RIO SÃO MATEUS   \n",
      "4  -40.08890    12.50  55400000                RIO SÃO MATEUS   \n",
      "\n",
      "             Origem StatusEstacao  \n",
      "0               RHN         Ativo  \n",
      "1               RHN         Ativo  \n",
      "2               RHN         Ativo  \n",
      "3        CotaOnline         Ativo  \n",
      "4  Açudes Semiárido         Ativo  \n"
     ]
    }
   ],
   "source": [
    "from pprint import pprint\n",
    "\n",
    "pprint(number_of_stations[\"RIOS MUCURI,SÃO MATEUS E ....\"])"
   ]
  },
  {
   "cell_type": "code",
   "execution_count": null,
   "metadata": {},
   "outputs": [
    {
     "data": {
      "text/html": [
       "<div>\n",
       "<style scoped>\n",
       "    .dataframe tbody tr th:only-of-type {\n",
       "        vertical-align: middle;\n",
       "    }\n",
       "\n",
       "    .dataframe tbody tr th {\n",
       "        vertical-align: top;\n",
       "    }\n",
       "\n",
       "    .dataframe thead th {\n",
       "        text-align: right;\n",
       "    }\n",
       "</style>\n",
       "<table border=\"1\" class=\"dataframe\">\n",
       "  <thead>\n",
       "    <tr style=\"text-align: right;\">\n",
       "      <th></th>\n",
       "      <th>UHE MASCARENHAS JUSANTE</th>\n",
       "      <th>PCH SAO LUIZ MONTANTE 1</th>\n",
       "      <th>COLATINA PONTE</th>\n",
       "    </tr>\n",
       "  </thead>\n",
       "  <tbody>\n",
       "    <tr>\n",
       "      <th>count</th>\n",
       "      <td>1421.000000</td>\n",
       "      <td>1421.000000</td>\n",
       "      <td>1421.000000</td>\n",
       "    </tr>\n",
       "    <tr>\n",
       "      <th>mean</th>\n",
       "      <td>254.664708</td>\n",
       "      <td>8.790091</td>\n",
       "      <td>325.979958</td>\n",
       "    </tr>\n",
       "    <tr>\n",
       "      <th>std</th>\n",
       "      <td>90.342159</td>\n",
       "      <td>7.258344</td>\n",
       "      <td>129.426062</td>\n",
       "    </tr>\n",
       "    <tr>\n",
       "      <th>min</th>\n",
       "      <td>194.160000</td>\n",
       "      <td>3.910000</td>\n",
       "      <td>149.770000</td>\n",
       "    </tr>\n",
       "    <tr>\n",
       "      <th>25%</th>\n",
       "      <td>194.160000</td>\n",
       "      <td>4.890000</td>\n",
       "      <td>248.030000</td>\n",
       "    </tr>\n",
       "    <tr>\n",
       "      <th>50%</th>\n",
       "      <td>194.160000</td>\n",
       "      <td>5.940000</td>\n",
       "      <td>298.120000</td>\n",
       "    </tr>\n",
       "    <tr>\n",
       "      <th>75%</th>\n",
       "      <td>294.430000</td>\n",
       "      <td>9.410000</td>\n",
       "      <td>361.030000</td>\n",
       "    </tr>\n",
       "    <tr>\n",
       "      <th>max</th>\n",
       "      <td>755.930000</td>\n",
       "      <td>53.630000</td>\n",
       "      <td>971.160000</td>\n",
       "    </tr>\n",
       "  </tbody>\n",
       "</table>\n",
       "</div>"
      ],
      "text/plain": [
       "       UHE MASCARENHAS JUSANTE  PCH SAO LUIZ MONTANTE 1  COLATINA PONTE\n",
       "count              1421.000000              1421.000000     1421.000000\n",
       "mean                254.664708                 8.790091      325.979958\n",
       "std                  90.342159                 7.258344      129.426062\n",
       "min                 194.160000                 3.910000      149.770000\n",
       "25%                 194.160000                 4.890000      248.030000\n",
       "50%                 194.160000                 5.940000      298.120000\n",
       "75%                 294.430000                 9.410000      361.030000\n",
       "max                 755.930000                53.630000      971.160000"
      ]
     },
     "execution_count": 16,
     "metadata": {},
     "output_type": "execute_result"
    }
   ],
   "source": [
    "\n",
    "import extract_data.utils as utils\n",
    "\n",
    "estacoes_colatina = utils.read_csv_from_directory(\"./data/Colatina\", \"Vazão (m3/s)\", [\"Chuva (mm)\", \"Nível (cm)\"])\n",
    "estacoes_colatina = utils.pre_proccess_df(estacoes_colatina)\n",
    "dataset_colatina = utils.join_dataframes(estacoes_colatina, \"timestamp\")\n",
    "\n",
    "\n",
    "dataset_colatina.to_csv(f\"./dataset_colatina_v2.csv\")\n",
    "dataset_colatina.dropna(inplace=True)\n",
    "dataset_colatina.describe()"
   ]
  },
  {
   "cell_type": "code",
   "execution_count": null,
   "metadata": {},
   "outputs": [
    {
     "data": {
      "text/html": [
       "<div>\n",
       "<style scoped>\n",
       "    .dataframe tbody tr th:only-of-type {\n",
       "        vertical-align: middle;\n",
       "    }\n",
       "\n",
       "    .dataframe tbody tr th {\n",
       "        vertical-align: top;\n",
       "    }\n",
       "\n",
       "    .dataframe thead th {\n",
       "        text-align: right;\n",
       "    }\n",
       "</style>\n",
       "<table border=\"1\" class=\"dataframe\">\n",
       "  <thead>\n",
       "    <tr style=\"text-align: right;\">\n",
       "      <th></th>\n",
       "      <th>COTAXE</th>\n",
       "      <th>CRICARE</th>\n",
       "      <th>BOCA DA VALA</th>\n",
       "    </tr>\n",
       "  </thead>\n",
       "  <tbody>\n",
       "    <tr>\n",
       "      <th>count</th>\n",
       "      <td>5437</td>\n",
       "      <td>5437</td>\n",
       "      <td>5437</td>\n",
       "    </tr>\n",
       "    <tr>\n",
       "      <th>unique</th>\n",
       "      <td>94</td>\n",
       "      <td>715</td>\n",
       "      <td>330</td>\n",
       "    </tr>\n",
       "    <tr>\n",
       "      <th>top</th>\n",
       "      <td>121</td>\n",
       "      <td>131</td>\n",
       "      <td>82</td>\n",
       "    </tr>\n",
       "    <tr>\n",
       "      <th>freq</th>\n",
       "      <td>381</td>\n",
       "      <td>409</td>\n",
       "      <td>296</td>\n",
       "    </tr>\n",
       "  </tbody>\n",
       "</table>\n",
       "</div>"
      ],
      "text/plain": [
       "                  COTAXE           CRICARE     BOCA DA VALA\n",
       "count               5437              5437             5437\n",
       "unique                94               715              330\n",
       "top     121               131               82             \n",
       "freq                 381               409              296"
      ]
     },
     "execution_count": 17,
     "metadata": {},
     "output_type": "execute_result"
    }
   ],
   "source": [
    "\n",
    "estacoes_sao_mateus = utils.read_csv_from_directory(\"./data/São Mateus\", \"Nível (cm)\", [\"Chuva (mm)\", \"Vazão (m3/s)\"])\n",
    "estacoes_sao_mateus = utils.pre_proccess_df(estacoes_sao_mateus)\n",
    "dataset_sao_mateus = utils.join_dataframes(estacoes_sao_mateus, \"timestamp\")\n",
    "\n",
    "\n",
    "dataset_sao_mateus.to_csv(f\"./dataset_sao_mateus_v2.csv\")\n",
    "dataset_sao_mateus.dropna(inplace=True)\n",
    "dataset_sao_mateus.describe()"
   ]
  }
 ],
 "metadata": {
  "kernelspec": {
   "display_name": "venv",
   "language": "python",
   "name": "python3"
  },
  "language_info": {
   "codemirror_mode": {
    "name": "ipython",
    "version": 3
   },
   "file_extension": ".py",
   "mimetype": "text/x-python",
   "name": "python",
   "nbconvert_exporter": "python",
   "pygments_lexer": "ipython3",
   "version": "3.10.12"
  }
 },
 "nbformat": 4,
 "nbformat_minor": 2
}
